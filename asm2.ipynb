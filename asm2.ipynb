{
 "cells": [
  {
   "cell_type": "markdown",
   "metadata": {},
   "source": [
    "Q1"
   ]
  },
  {
   "cell_type": "code",
   "execution_count": 12,
   "metadata": {},
   "outputs": [
    {
     "name": "stdout",
     "output_type": "stream",
     "text": [
      "white\n"
     ]
    }
   ],
   "source": [
    "columns = {\n",
    "    \"a\": \"b\",\n",
    "    \"b\": \"w\",\n",
    "    \"c\": \"b\",\n",
    "    \"d\": \"w\",\n",
    "    \"e\": \"b\",\n",
    "    \"f\": \"w\",\n",
    "    \"g\": \"b\",\n",
    "    \"h\": \"w\"\n",
    "}\n",
    "position = input(\"position?\")\n",
    "if(columns[position[0:1]] == \"b\"):\n",
    "    if(int(position[1:2])%2 == 0):\n",
    "        print(\"white\")\n",
    "    else:\n",
    "        print(\"black\")\n",
    "else:\n",
    "    if(int(position[1:2])%2 == 0):\n",
    "        print(\"black\")\n",
    "    else:\n",
    "        print(\"white\")"
   ]
  },
  {
   "cell_type": "code",
   "execution_count": 1,
   "metadata": {},
   "outputs": [
    {
     "name": "stdout",
     "output_type": "stream",
     "text": [
      "3 [13, 15, 17]\n",
      "1 [0]\n"
     ]
    }
   ],
   "source": [
    "def maximum(list1):\n",
    "    return max(list1, key=lambda arr: len(arr))\n",
    "\n",
    "def minium(list1):\n",
    "    return min(list1, key=lambda arr: len(arr))\n",
    "\n",
    "list1=[[0], [1, 3], [5, 7], [9, 11], [13, 15, 17]]\n",
    "max=maximum(list1)\n",
    "print(str(len(max)), str(max))\n",
    "min=minium(list1)\n",
    "print(str(len(min)), str(min))"
   ]
  }
 ],
 "metadata": {
  "kernelspec": {
   "display_name": "Python 3",
   "language": "python",
   "name": "python3"
  },
  "language_info": {
   "codemirror_mode": {
    "name": "ipython",
    "version": 3
   },
   "file_extension": ".py",
   "mimetype": "text/x-python",
   "name": "python",
   "nbconvert_exporter": "python",
   "pygments_lexer": "ipython3",
   "version": "3.10.7"
  }
 },
 "nbformat": 4,
 "nbformat_minor": 2
}
