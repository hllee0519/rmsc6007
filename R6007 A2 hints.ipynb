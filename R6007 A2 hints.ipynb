{
 "cells": [
  {
   "cell_type": "markdown",
   "id": "29ea7aa2",
   "metadata": {},
   "source": [
    "# RMSC6007 Hints for Assignment 2"
   ]
  },
  {
   "cell_type": "code",
   "execution_count": 1,
   "id": "1ae2850d",
   "metadata": {},
   "outputs": [
    {
     "name": "stdout",
     "output_type": "stream",
     "text": [
      "https://forms.gle/1fJt2v1RFAUEs3fq8\n"
     ]
    }
   ],
   "source": [
    "# You may provide (anonymous) feedback and comments about course. You can simply write anything you want. \n",
    "\n",
    "print('https://forms.gle/1fJt2v1RFAUEs3fq8')"
   ]
  },
  {
   "cell_type": "code",
   "execution_count": null,
   "id": "7702ae7f",
   "metadata": {},
   "outputs": [],
   "source": [
    "# Q2\n",
    "def max_length_list(input_list):\n",
    "    # Fill in the codes for this function\n",
    "\n",
    "def min_length_list(input_list):\n",
    "    # Fill in the codes for this function\n",
    "\n",
    "list1 = [[0], [1, 3], [5, 7], [9, 11], [13, 15, 17]]\n",
    "print(\"Original list:\")\n",
    "print(list1)\n",
    "print(\"\\nList with maximum length of lists:\")\n",
    "print(max_length_list(list1))\n",
    "print(\"\\nList with minimum length of lists:\")\n",
    "print(min_length_list(list1))"
   ]
  },
  {
   "cell_type": "code",
   "execution_count": null,
   "id": "bcbd1cdd",
   "metadata": {},
   "outputs": [],
   "source": [
    "# Q3\n",
    "class Employee:\n",
    "    def __init__(self, name, emp_id, salary, department):\n",
    "        # Fill in the codes for this function\n",
    "\n",
    "    def calculate_salary(self, hours_worked):\n",
    "        # Fill in the codes for this function\n",
    "\n",
    "    def assign_department(self, emp_department):\n",
    "        # Fill in the codes for this function\n",
    "\n",
    "    def print_employee_details(self):\n",
    "        # Fill in the codes for this function\n",
    "\n",
    "# e.g. changing the department\n",
    "employee1.assign_department(\"OPERATIONS\")\n",
    "\n",
    "# e.g. overtime\n",
    "employee2.calculate_salary(52)"
   ]
  },
  {
   "cell_type": "code",
   "execution_count": null,
   "id": "fc914017",
   "metadata": {},
   "outputs": [],
   "source": [
    "# Q4\n",
    "\n",
    "# downloading data\n",
    "\n",
    "from forex_python.converter import CurrencyRates\n",
    "from datetime import datetime\n",
    "from statsmodels.tsa.stattools import adfuller, kpss\n",
    "\n",
    "currency = CurrencyRates()\n",
    "df = pd.DataFrame(pd.date_range(start='1/1/1999', end='12/31/2021', freq='M'),columns=[\"DateTime\"])\n",
    "df[\"Rates\"] = df[\"DateTime\"].apply(lambda x: currency.get_rate(\"USD\",\"CAD\",x))"
   ]
  },
  {
   "cell_type": "code",
   "execution_count": null,
   "id": "44f143c0",
   "metadata": {},
   "outputs": [],
   "source": [
    "# Q5\n",
    "\n",
    "# downloading data\n",
    "\n",
    "from prophet import Prophet\n",
    "from statsmodels.tsa.seasonal import seasonal_decompose\n",
    "import requests\n",
    "\n",
    "url = \"https://data.nasdaq.com/api/v3/datasets/FRED/UNRATE.json?api_key=a_rjPxx3BtETWzqDGbC7\"\n",
    "\n",
    "r = requests.get(url)\n",
    "UNRATES = r.json()\n",
    "UNRATE_df = pd.DataFrame(columns=[\"ds\",\"y\"])\n",
    "for UNRATE in UNRATES['dataset']['data']:\n",
    "  UNRATE_df = UNRATE_df.append(\n",
    "      dict(\n",
    "          ds = UNRATE[0],\n",
    "          y = UNRATE[1]\n",
    "      ), ignore_index=True\n",
    "  )"
   ]
  },
  {
   "cell_type": "code",
   "execution_count": null,
   "id": "7a04f01f",
   "metadata": {},
   "outputs": [],
   "source": [
    "# Q6\n",
    "\n",
    "# downloading data and importing the relevant packages\n",
    "\n",
    "import yfinance as yf\n",
    "from statsmodels.graphics.tsaplots import plot_acf, plot_pacf\n",
    "from statsmodels.tsa.arima.model import ARIMA\n",
    "import seaborn as sns\n",
    "import scipy.stats as scs\n",
    "import statsmodels.graphics.gofplots as sm\n",
    "\n",
    "DJIA = yf.download(\"^dji\", start=\"1980-01-01\", end=\"2021-12-31\")\n",
    "dji = DJIA.resample('W').last().rename(columns={'Adj Close': 'adj_close'}).adj_close\n",
    "\n",
    "# For part d, you may comment on the ACF and PACF plots, \n",
    "# compare the three models based on the residuals, AIC and/or BIC\n",
    "\n",
    "\n"
   ]
  },
  {
   "cell_type": "code",
   "execution_count": null,
   "id": "00986d2f",
   "metadata": {},
   "outputs": [],
   "source": [
    "# Q7\n",
    "\n",
    "# downloading data and computing the returns\n",
    "\n",
    "SP500 = yf.download(\"^GSPC\", start=\"2010-01-01\", end=\"2021-12-31\")\n",
    "sp500 = pd.DataFrame((SP500[\"Close\"]-SP500[\"Open\"])/SP500[\"Open\"]*100,columns=[\"r\"])"
   ]
  }
 ],
 "metadata": {
  "kernelspec": {
   "display_name": "Python 3",
   "language": "python",
   "name": "python3"
  },
  "language_info": {
   "codemirror_mode": {
    "name": "ipython",
    "version": 3
   },
   "file_extension": ".py",
   "mimetype": "text/x-python",
   "name": "python",
   "nbconvert_exporter": "python",
   "pygments_lexer": "ipython3",
   "version": "3.8.2"
  }
 },
 "nbformat": 4,
 "nbformat_minor": 5
}
